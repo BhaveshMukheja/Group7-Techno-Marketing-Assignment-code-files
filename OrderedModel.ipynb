{
 "cells": [
  {
   "cell_type": "markdown",
   "metadata": {},
   "source": [
    "### Python Code for the Ordered Model Hypothesis Testing"
   ]
  },
  {
   "cell_type": "markdown",
   "metadata": {},
   "source": [
    "#### Step1: Make Coloumns for PE, EE, FC, HT, PV, and DWA that contains row mean of indicators of respective constructs. \n",
    "For example, PE[1] =( PE3[1] + PE6[1] + PE7[1])/3 \n",
    "\n",
    "And so on till PE[394] = ( PE3[394] + PE6[394] + PE7[394])/3\n"
   ]
  },
  {
   "cell_type": "code",
   "execution_count": null,
   "metadata": {
    "vscode": {
     "languageId": "plaintext"
    }
   },
   "outputs": [],
   "source": [
    "import pandas as pd\n",
    "\n",
    "# Loading the data set\n",
    "df = pd.read_csv('Digital Wallet Usage Among Youth (Responses).csv')\n",
    "\n",
    "# Aggregate responses for each construct\n",
    "df['PE'] = df[['PE3', 'PE6', 'PE7']].mean(axis=1)\n",
    "df['EE'] = df[['EE3', 'EE8', 'EE9']].mean(axis=1)\n",
    "df['FC'] = df[['FC1', 'FC3', 'FC5']].mean(axis=1)\n",
    "df['HT'] = df[['HT1', 'HT4', 'HT6']].mean(axis=1)\n",
    "df['PV'] = df[['PV2', 'PV4', 'PV5']].mean(axis=1)\n",
    "df['DWA'] = df[['DWA1', 'DWA2', 'DWA3', 'DWA4']].mean(axis=1)\n",
    "\n",
    "new_df = pd.DataFrame(df[['PE', 'EE', 'FC', 'HT', 'PV', 'DWA']])\n",
    "\n",
    "\n",
    "print(df)\n",
    "print(new_df)"
   ]
  },
  {
   "cell_type": "markdown",
   "metadata": {},
   "source": [
    "#### Step2: Development of the code for Ordered Model Hypothesis Testing\n",
    "\n",
    "After running the following code, you shall get the reuslts"
   ]
  },
  {
   "cell_type": "code",
   "execution_count": null,
   "metadata": {
    "vscode": {
     "languageId": "plaintext"
    }
   },
   "outputs": [],
   "source": [
    "import statsmodels.api as sm\n",
    "from statsmodels.miscmodels.ordinal_model import OrderedModel\n",
    "import pandas as pd \n",
    "\n",
    "# Define independent (X) and dependent (y) variables\n",
    "X = new_df[['PE', 'EE', 'FC', 'HT', 'PV']]\n",
    "y = new_df['DWA']\n",
    "\n",
    "\n",
    "# Fit ordinal logistic regression\n",
    "model = OrderedModel(y, X, distr='logit')\n",
    "result = model.fit(method='bfgs')\n",
    "\n",
    "# Print results\n",
    "print(result.summary())"
   ]
  }
 ],
 "metadata": {
  "language_info": {
   "name": "python"
  }
 },
 "nbformat": 4,
 "nbformat_minor": 2
}
