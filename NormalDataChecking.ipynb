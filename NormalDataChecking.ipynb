{
 "cells": [
  {
   "cell_type": "markdown",
   "metadata": {},
   "source": [
    "### The following code is used to check if the data is normal or not. This is an important step since it will tell us if we have to apply Parametric Tests or non-parametric tests"
   ]
  },
  {
   "cell_type": "code",
   "execution_count": null,
   "metadata": {
    "vscode": {
     "languageId": "plaintext"
    }
   },
   "outputs": [],
   "source": [
    "from scipy.stats import shapiro\n",
    "import matplotlib.pyplot as plt\n",
    "import seaborn as sns\n",
    "import pandas as pd\n",
    "\n",
    "# Check normality for each construct\n",
    "# sem_data is the modified file after data cleaning \n",
    "\n",
    "df = pd.read_csv('sem_data.csv')\n",
    "new_df = pd.DataFrame(df[['PE', 'EE', 'FC', 'HT', 'PV', 'DWA']])\n",
    "\n",
    "for column in new_df.columns:\n",
    "    print(f\"Checking normality for {column}\")\n",
    "    sns.histplot(new_df[column], kde=True)\n",
    "    plt.title(f'Distribution of {column}')\n",
    "    plt.show()\n",
    "    \n",
    "    stat, p = shapiro(df[column])\n",
    "    print(f\"Shapiro-Wilk Test: p-value = {p}\")\n",
    "    if p > 0.05:\n",
    "        print(f\"{column} is normally distributed.\")\n",
    "    else:\n",
    "        print(f\"{column} is NOT normally distributed.\")"
   ]
  }
 ],
 "metadata": {
  "language_info": {
   "name": "python"
  }
 },
 "nbformat": 4,
 "nbformat_minor": 2
}
